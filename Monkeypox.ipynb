{
  "cells": [
    {
      "cell_type": "code",
      "execution_count": null,
      "metadata": {
        "colab": {
          "base_uri": "https://localhost:8080/"
        },
        "id": "gja8gQhbfhxK",
        "outputId": "3af9f508-2f5c-48c4-c54c-5a6d3b94a248"
      },
      "outputs": [
        {
          "name": "stdout",
          "output_type": "stream",
          "text": [
            "Drive already mounted at /content/drive; to attempt to forcibly remount, call drive.mount(\"/content/drive\", force_remount=True).\n"
          ]
        }
      ],
      "source": [
        "from google.colab import drive\n",
        "drive.mount('/content/drive')"
      ]
    },
    {
      "cell_type": "markdown",
      "source": [
        "# **Libraries**"
      ],
      "metadata": {
        "id": "keXP_QC1vWZu"
      }
    },
    {
      "cell_type": "code",
      "execution_count": null,
      "metadata": {
        "id": "JFLoJ7Mj1VGc"
      },
      "outputs": [],
      "source": [
        "from google.colab import files\n",
        "import os\n",
        "import copy\n",
        "import glob\n",
        "import pandas as pd\n",
        "import numpy as np\n",
        "import warnings\n",
        "\n",
        "import matplotlib\n",
        "import matplotlib.pylab as plt\n",
        "import seaborn as sns\n",
        "\n",
        "from keras.preprocessing.image import ImageDataGenerator\n",
        "from tensorflow.keras.utils import img_to_array, load_img\n",
        "import cv2\n",
        "\n",
        "import keras\n",
        "import tensorflow as tf\n",
        "from tensorflow.keras.models import Model, load_model, Sequential\n",
        "from keras.layers import Flatten, Dense\n",
        "from keras.layers import Dense, GlobalAveragePooling2D, Dropout, BatchNormalization, MaxPooling2D, GlobalMaxPooling2D\n",
        "from keras.utils import np_utils\n",
        "from keras.callbacks import ModelCheckpoint, EarlyStopping, ReduceLROnPlateau\n",
        "from keras import regularizers\n",
        "from tensorflow.keras.optimizers import Adam, Adamax\n",
        "\n",
        "from tensorflow.keras.applications import ResNet50V2, Xception\n",
        "from keras.applications.mobilenet_v2 import MobileNetV2\n",
        "\n",
        "from sklearn.metrics import accuracy_score, confusion_matrix, roc_auc_score, roc_curve, f1_score\n",
        "from sklearn.metrics import classification_report, confusion_matrix, ConfusionMatrixDisplay\n",
        "from sklearn.model_selection import train_test_split\n",
        "import sklearn.metrics as metrics\n",
        "from sklearn.utils import shuffle"
      ]
    },
    {
      "cell_type": "markdown",
      "source": [
        "# **Loading Images**"
      ],
      "metadata": {
        "id": "P5W45EbsvLeW"
      }
    },
    {
      "cell_type": "code",
      "execution_count": null,
      "metadata": {
        "colab": {
          "base_uri": "https://localhost:8080/"
        },
        "id": "aPVh1Hk4iCnQ",
        "outputId": "05fda780-ceba-4989-ecea-3fa189a53c8b"
      },
      "outputs": [
        {
          "name": "stdout",
          "output_type": "stream",
          "text": [
            "Found 2553 images belonging to 2 classes.\n",
            "Found 639 images belonging to 2 classes.\n"
          ]
        }
      ],
      "source": [
        "train_gen = ImageDataGenerator(rescale=1./255)\n",
        "valid_gen = ImageDataGenerator(rescale=1./255,validation_split=0.4)\n",
        "\n",
        "train_data = train_gen.flow_from_directory(\"/content/drive/MyDrive/Monkeypox_dataset/train\",target_size=(224,224),shuffle=True,class_mode='binary', batch_size=64)\n",
        "valid_data = valid_gen.flow_from_directory('/content/drive/MyDrive/Monkeypox_dataset/val',target_size=(224,224),shuffle=True,class_mode='binary')"
      ]
    },
    {
      "cell_type": "markdown",
      "metadata": {
        "id": "R1U9493CcADN"
      },
      "source": [
        "# **Call Backs**"
      ]
    },
    {
      "cell_type": "code",
      "execution_count": null,
      "metadata": {
        "id": "qIdkz3T_E_MC"
      },
      "outputs": [],
      "source": [
        "checkpoint_filepath = '{epoch:02d}.h5'\n",
        "checkpoint_dir = os.path.dirname(checkpoint_filepath)\n",
        "\n",
        "model_checkpoint_callback = keras.callbacks.ModelCheckpoint(\n",
        "    filepath=checkpoint_filepath,\n",
        "    save_weights_only=True,\n",
        "    monitor='val_accuracy',\n",
        "    mode='max',\n",
        "    verbose=1,\n",
        "    save_best_only=True)\n",
        "\n",
        "earlystop = EarlyStopping(monitor = 'val_accuracy', \n",
        "                          min_delta = 0, \n",
        "                          patience = 15,\n",
        "                          verbose = 1,\n",
        "                          mode='auto')\n",
        "\n",
        "reduce_lr = ReduceLROnPlateau(monitor = 'val_accuracy',\n",
        "                              factor = 0.2,\n",
        "                              patience = 4,\n",
        "                              verbose = 1,\n",
        "                              min_delta = 0.0001)\n",
        "\n",
        "cb = [earlystop, reduce_lr, model_checkpoint_callback]"
      ]
    },
    {
      "cell_type": "markdown",
      "metadata": {
        "id": "flMs37gMb4rI"
      },
      "source": [
        "# **ResNet50V2**"
      ]
    },
    {
      "cell_type": "code",
      "execution_count": null,
      "metadata": {
        "colab": {
          "base_uri": "https://localhost:8080/"
        },
        "id": "MlKrjGd54NMG",
        "outputId": "fc82183a-486e-49ca-ae12-cabcf41e5713"
      },
      "outputs": [
        {
          "name": "stdout",
          "output_type": "stream",
          "text": [
            "Model: \"sequential_2\"\n",
            "_________________________________________________________________\n",
            " Layer (type)                Output Shape              Param #   \n",
            "=================================================================\n",
            " resnet50v2 (Functional)     (None, 7, 7, 2048)        23564800  \n",
            "                                                                 \n",
            " global_average_pooling2d_2   (None, 2048)             0         \n",
            " (GlobalAveragePooling2D)                                        \n",
            "                                                                 \n",
            " dense_6 (Dense)             (None, 256)               524544    \n",
            "                                                                 \n",
            " batch_normalization_4 (Batc  (None, 256)              1024      \n",
            " hNormalization)                                                 \n",
            "                                                                 \n",
            " dense_7 (Dense)             (None, 164)               42148     \n",
            "                                                                 \n",
            " batch_normalization_5 (Batc  (None, 164)              656       \n",
            " hNormalization)                                                 \n",
            "                                                                 \n",
            " dense_8 (Dense)             (None, 1)                 165       \n",
            "                                                                 \n",
            "=================================================================\n",
            "Total params: 24,133,337\n",
            "Trainable params: 567,697\n",
            "Non-trainable params: 23,565,640\n",
            "_________________________________________________________________\n"
          ]
        }
      ],
      "source": [
        "base_model_resnet = ResNet50V2(\n",
        "      include_top=False,\n",
        "      input_shape=(224,224,3))\n",
        "base_model_resnet.trainable = False\n",
        "\n",
        "model_resnet = Sequential([\n",
        "      base_model_resnet,\n",
        "      GlobalAveragePooling2D(),\n",
        "      Dense(256,activation='relu'),\n",
        "      BatchNormalization(),\n",
        "      Dense(164,activation='relu'),\n",
        "      BatchNormalization(),\n",
        "      Dense(1,activation='sigmoid')])\n",
        "\n",
        "model_resnet.summary()"
      ]
    },
    {
      "cell_type": "code",
      "execution_count": null,
      "metadata": {
        "id": "HgJSFLm86RlC"
      },
      "outputs": [],
      "source": [
        "model_resnet.compile(\n",
        "      loss='binary_crossentropy',\n",
        "      optimizer='rmsprop',\n",
        "      metrics=['accuracy']\n",
        "  )\n",
        "\n",
        "cb_resenet = [EarlyStopping(patience=5,monitor='val_accuracy',mode='max',restore_best_weights=True),ModelCheckpoint(\"ResNet50.h5\",save_best_only=True)]"
      ]
    },
    {
      "cell_type": "code",
      "execution_count": null,
      "metadata": {
        "colab": {
          "base_uri": "https://localhost:8080/"
        },
        "id": "zVdnrIJB6cZx",
        "outputId": "7c7d152b-2cef-49ea-ee90-b1f6e9e3c1fe"
      },
      "outputs": [
        {
          "name": "stdout",
          "output_type": "stream",
          "text": [
            "Epoch 1/40\n",
            "40/40 [==============================] - 48s 1s/step - loss: 0.2588 - accuracy: 0.8946 - val_loss: 0.2174 - val_accuracy: 0.9390\n",
            "Epoch 2/40\n",
            "40/40 [==============================] - 42s 1s/step - loss: 0.0765 - accuracy: 0.9777 - val_loss: 0.1567 - val_accuracy: 0.9577\n",
            "Epoch 3/40\n",
            "40/40 [==============================] - 42s 1s/step - loss: 0.0492 - accuracy: 0.9839 - val_loss: 0.1280 - val_accuracy: 0.9484\n",
            "Epoch 4/40\n",
            "40/40 [==============================] - 43s 1s/step - loss: 0.0322 - accuracy: 0.9914 - val_loss: 0.1153 - val_accuracy: 0.9562\n",
            "Epoch 5/40\n",
            "40/40 [==============================] - 43s 1s/step - loss: 0.0181 - accuracy: 0.9937 - val_loss: 0.0973 - val_accuracy: 0.9781\n",
            "Epoch 6/40\n",
            "40/40 [==============================] - 43s 1s/step - loss: 0.0241 - accuracy: 0.9918 - val_loss: 0.1308 - val_accuracy: 0.9656\n",
            "Epoch 7/40\n",
            "40/40 [==============================] - 43s 1s/step - loss: 0.0152 - accuracy: 0.9961 - val_loss: 0.1289 - val_accuracy: 0.9718\n",
            "Epoch 8/40\n",
            "40/40 [==============================] - 43s 1s/step - loss: 0.0102 - accuracy: 0.9965 - val_loss: 0.1550 - val_accuracy: 0.9718\n",
            "Epoch 9/40\n",
            "40/40 [==============================] - 43s 1s/step - loss: 0.0054 - accuracy: 0.9988 - val_loss: 0.1202 - val_accuracy: 0.9703\n",
            "Epoch 10/40\n",
            "40/40 [==============================] - 44s 1s/step - loss: 0.0103 - accuracy: 0.9969 - val_loss: 0.1385 - val_accuracy: 0.9624\n"
          ]
        }
      ],
      "source": [
        "hist_resnet=model_resnet.fit(\n",
        "      train_data,\n",
        "      epochs=10,\n",
        "      validation_data=valid_data,\n",
        "      callbacks=cb_resenet\n",
        "  )"
      ]
    },
    {
      "cell_type": "code",
      "execution_count": null,
      "metadata": {
        "colab": {
          "base_uri": "https://localhost:8080/",
          "height": 308
        },
        "id": "cPj3SxiZC0Qb",
        "outputId": "dd7cd920-fa6a-490e-e797-a20a6755d5bc"
      },
      "outputs": [
        {
          "data": {
            "image/png": "[encoded data removed]",
            "text/plain": [
              "<Figure size 432x288 with 1 Axes>"
            ]
          },
          "metadata": {},
          "output_type": "display_data"
        }
      ],
      "source": [
        "fig = plt.figure()\n",
        "plt.plot(hist_resnet.history['loss'], color='teal', label='TL')\n",
        "plt.plot(hist_resnet.history['val_loss'], color='orange', label='VL')\n",
        "plt.plot(hist_resnet.history['accuracy'], color='green', label='TA')\n",
        "plt.plot(hist_resnet.history['val_accuracy'], color='red', label='VA')\n",
        "plt.xlabel(\"Epoch\")\n",
        "plt.ylabel(\"Loss/Accuracy\")\n",
        "fig.suptitle('ResNet50V2', fontsize=20)\n",
        "plt.legend(loc=\"lower left\")\n",
        "plt.show()"
      ]
    },
    {
      "cell_type": "markdown",
      "source": [
        "# **MobileNetV2**"
      ],
      "metadata": {
        "id": "JPuBud3SoPcg"
      }
    },
    {
      "cell_type": "code",
      "execution_count": null,
      "metadata": {
        "colab": {
          "base_uri": "https://localhost:8080/"
        },
        "id": "q5zwoRM8RvTR",
        "outputId": "cb68e001-5772-4c64-f481-509a18ca94a0"
      },
      "outputs": [
        {
          "name": "stdout",
          "output_type": "stream",
          "text": [
            "Model: \"model_1\"\n",
            "__________________________________________________________________________________________________\n",
            " Layer (type)                   Output Shape         Param #     Connected to                     \n",
            "==================================================================================================\n",
            " input_2 (InputLayer)           [(None, 224, 224, 3  0           []                               \n",
            "                                )]                                                                \n",
            "                                                                                                  \n",
            " Conv1 (Conv2D)                 (None, 112, 112, 32  864         ['input_2[0][0]']                \n",
            "                                )                                                                 \n",
            "                                                                                                  \n",
            " bn_Conv1 (BatchNormalization)  (None, 112, 112, 32  128         ['Conv1[0][0]']                  \n",
            "                                )                                                                 \n",
            "                                                                                                  \n",
            " Conv1_relu (ReLU)              (None, 112, 112, 32  0           ['bn_Conv1[0][0]']               \n",
            "                                )                                                                 \n",
            "                                                                                                  \n",
            " expanded_conv_depthwise (Depth  (None, 112, 112, 32  288        ['Conv1_relu[0][0]']             \n",
            " wiseConv2D)                    )                                                                 \n",
            "                                                                                                  \n",
            " expanded_conv_depthwise_BN (Ba  (None, 112, 112, 32  128        ['expanded_conv_depthwise[0][0]']\n",
            " tchNormalization)              )                                                                 \n",
            "                                                                                                  \n",
            " expanded_conv_depthwise_relu (  (None, 112, 112, 32  0          ['expanded_conv_depthwise_BN[0][0\n",
            " ReLU)                          )                                ]']                              \n",
            "                                                                                                  \n",
            " expanded_conv_project (Conv2D)  (None, 112, 112, 16  512        ['expanded_conv_depthwise_relu[0]\n",
            "                                )                                [0]']                            \n",
            "                                                                                                  \n",
            " expanded_conv_project_BN (Batc  (None, 112, 112, 16  64         ['expanded_conv_project[0][0]']  \n",
            " hNormalization)                )                                                                 \n",
            "                                                                                                  \n",
            " block_1_expand (Conv2D)        (None, 112, 112, 96  1536        ['expanded_conv_project_BN[0][0]'\n",
            "                                )                                ]                                \n",
            "                                                                                                  \n",
            " block_1_expand_BN (BatchNormal  (None, 112, 112, 96  384        ['block_1_expand[0][0]']         \n",
            " ization)                       )                                                                 \n",
            "                                                                                                  \n",
            " block_1_expand_relu (ReLU)     (None, 112, 112, 96  0           ['block_1_expand_BN[0][0]']      \n",
            "                                )                                                                 \n",
            "                                                                                                  \n",
            " block_1_pad (ZeroPadding2D)    (None, 113, 113, 96  0           ['block_1_expand_relu[0][0]']    \n",
            "                                )                                                                 \n",
            "                                                                                                  \n",
            " block_1_depthwise (DepthwiseCo  (None, 56, 56, 96)  864         ['block_1_pad[0][0]']            \n",
            " nv2D)                                                                                            \n",
            "                                                                                                  \n",
            " block_1_depthwise_BN (BatchNor  (None, 56, 56, 96)  384         ['block_1_depthwise[0][0]']      \n",
            " malization)                                                                                      \n",
            "                                                                                                  \n",
            " block_1_depthwise_relu (ReLU)  (None, 56, 56, 96)   0           ['block_1_depthwise_BN[0][0]']   \n",
            "                                                                                                  \n",
            " block_1_project (Conv2D)       (None, 56, 56, 24)   2304        ['block_1_depthwise_relu[0][0]'] \n",
            "                                                                                                  \n",
            " block_1_project_BN (BatchNorma  (None, 56, 56, 24)  96          ['block_1_project[0][0]']        \n",
            " lization)                                                                                        \n",
            "                                                                                                  \n",
            " block_2_expand (Conv2D)        (None, 56, 56, 144)  3456        ['block_1_project_BN[0][0]']     \n",
            "                                                                                                  \n",
            " block_2_expand_BN (BatchNormal  (None, 56, 56, 144)  576        ['block_2_expand[0][0]']         \n",
            " ization)                                                                                         \n",
            "                                                                                                  \n",
            " block_2_expand_relu (ReLU)     (None, 56, 56, 144)  0           ['block_2_expand_BN[0][0]']      \n",
            "                                                                                                  \n",
            " block_2_depthwise (DepthwiseCo  (None, 56, 56, 144)  1296       ['block_2_expand_relu[0][0]']    \n",
            " nv2D)                                                                                            \n",
            "                                                                                                  \n",
            " block_2_depthwise_BN (BatchNor  (None, 56, 56, 144)  576        ['block_2_depthwise[0][0]']      \n",
            " malization)                                                                                      \n",
            "                                                                                                  \n",
            " block_2_depthwise_relu (ReLU)  (None, 56, 56, 144)  0           ['block_2_depthwise_BN[0][0]']   \n",
            "                                                                                                  \n",
            " block_2_project (Conv2D)       (None, 56, 56, 24)   3456        ['block_2_depthwise_relu[0][0]'] \n",
            "                                                                                                  \n",
            " block_2_project_BN (BatchNorma  (None, 56, 56, 24)  96          ['block_2_project[0][0]']        \n",
            " lization)                                                                                        \n",
            "                                                                                                  \n",
            " block_2_add (Add)              (None, 56, 56, 24)   0           ['block_1_project_BN[0][0]',     \n",
            "                                                                  'block_2_project_BN[0][0]']     \n",
            "                                                                                                  \n",
            " block_3_expand (Conv2D)        (None, 56, 56, 144)  3456        ['block_2_add[0][0]']            \n",
            "                                                                                                  \n",
            " block_3_expand_BN (BatchNormal  (None, 56, 56, 144)  576        ['block_3_expand[0][0]']         \n",
            " ization)                                                                                         \n",
            "                                                                                                  \n",
            " block_3_expand_relu (ReLU)     (None, 56, 56, 144)  0           ['block_3_expand_BN[0][0]']      \n",
            "                                                                                                  \n",
            " block_3_pad (ZeroPadding2D)    (None, 57, 57, 144)  0           ['block_3_expand_relu[0][0]']    \n",
            "                                                                                                  \n",
            " block_3_depthwise (DepthwiseCo  (None, 28, 28, 144)  1296       ['block_3_pad[0][0]']            \n",
            " nv2D)                                                                                            \n",
            "                                                                                                  \n",
            " block_3_depthwise_BN (BatchNor  (None, 28, 28, 144)  576        ['block_3_depthwise[0][0]']      \n",
            " malization)                                                                                      \n",
            "                                                                                                  \n",
            " block_3_depthwise_relu (ReLU)  (None, 28, 28, 144)  0           ['block_3_depthwise_BN[0][0]']   \n",
            "                                                                                                  \n",
            " block_3_project (Conv2D)       (None, 28, 28, 32)   4608        ['block_3_depthwise_relu[0][0]'] \n",
            "                                                                                                  \n",
            " block_3_project_BN (BatchNorma  (None, 28, 28, 32)  128         ['block_3_project[0][0]']        \n",
            " lization)                                                                                        \n",
            "                                                                                                  \n",
            " block_4_expand (Conv2D)        (None, 28, 28, 192)  6144        ['block_3_project_BN[0][0]']     \n",
            "                                                                                                  \n",
            " block_4_expand_BN (BatchNormal  (None, 28, 28, 192)  768        ['block_4_expand[0][0]']         \n",
            " ization)                                                                                         \n",
            "                                                                                                  \n",
            " block_4_expand_relu (ReLU)     (None, 28, 28, 192)  0           ['block_4_expand_BN[0][0]']      \n",
            "                                                                                                  \n",
            " block_4_depthwise (DepthwiseCo  (None, 28, 28, 192)  1728       ['block_4_expand_relu[0][0]']    \n",
            " nv2D)                                                                                            \n",
            "                                                                                                  \n",
            " block_4_depthwise_BN (BatchNor  (None, 28, 28, 192)  768        ['block_4_depthwise[0][0]']      \n",
            " malization)                                                                                      \n",
            "                                                                                                  \n",
            " block_4_depthwise_relu (ReLU)  (None, 28, 28, 192)  0           ['block_4_depthwise_BN[0][0]']   \n",
            "                                                                                                  \n",
            " block_4_project (Conv2D)       (None, 28, 28, 32)   6144        ['block_4_depthwise_relu[0][0]'] \n",
            "                                                                                                  \n",
            " block_4_project_BN (BatchNorma  (None, 28, 28, 32)  128         ['block_4_project[0][0]']        \n",
            " lization)                                                                                        \n",
            "                                                                                                  \n",
            " block_4_add (Add)              (None, 28, 28, 32)   0           ['block_3_project_BN[0][0]',     \n",
            "                                                                  'block_4_project_BN[0][0]']     \n",
            "                                                                                                  \n",
            " block_5_expand (Conv2D)        (None, 28, 28, 192)  6144        ['block_4_add[0][0]']            \n",
            "                                                                                                  \n",
            " block_5_expand_BN (BatchNormal  (None, 28, 28, 192)  768        ['block_5_expand[0][0]']         \n",
            " ization)                                                                                         \n",
            "                                                                                                  \n",
            " block_5_expand_relu (ReLU)     (None, 28, 28, 192)  0           ['block_5_expand_BN[0][0]']      \n",
            "                                                                                                  \n",
            " block_5_depthwise (DepthwiseCo  (None, 28, 28, 192)  1728       ['block_5_expand_relu[0][0]']    \n",
            " nv2D)                                                                                            \n",
            "                                                                                                  \n",
            " block_5_depthwise_BN (BatchNor  (None, 28, 28, 192)  768        ['block_5_depthwise[0][0]']      \n",
            " malization)                                                                                      \n",
            "                                                                                                  \n",
            " block_5_depthwise_relu (ReLU)  (None, 28, 28, 192)  0           ['block_5_depthwise_BN[0][0]']   \n",
            "                                                                                                  \n",
            " block_5_project (Conv2D)       (None, 28, 28, 32)   6144        ['block_5_depthwise_relu[0][0]'] \n",
            "                                                                                                  \n",
            " block_5_project_BN (BatchNorma  (None, 28, 28, 32)  128         ['block_5_project[0][0]']        \n",
            " lization)                                                                                        \n",
            "                                                                                                  \n",
            " block_5_add (Add)              (None, 28, 28, 32)   0           ['block_4_add[0][0]',            \n",
            "                                                                  'block_5_project_BN[0][0]']     \n",
            "                                                                                                  \n",
            " block_6_expand (Conv2D)        (None, 28, 28, 192)  6144        ['block_5_add[0][0]']            \n",
            "                                                                                                  \n",
            " block_6_expand_BN (BatchNormal  (None, 28, 28, 192)  768        ['block_6_expand[0][0]']         \n",
            " ization)                                                                                         \n",
            "                                                                                                  \n",
            " block_6_expand_relu (ReLU)     (None, 28, 28, 192)  0           ['block_6_expand_BN[0][0]']      \n",
            "                                                                                                  \n",
            " block_6_pad (ZeroPadding2D)    (None, 29, 29, 192)  0           ['block_6_expand_relu[0][0]']    \n",
            "                                                                                                  \n",
            " block_6_depthwise (DepthwiseCo  (None, 14, 14, 192)  1728       ['block_6_pad[0][0]']            \n",
            " nv2D)                                                                                            \n",
            "                                                                                                  \n",
            " block_6_depthwise_BN (BatchNor  (None, 14, 14, 192)  768        ['block_6_depthwise[0][0]']      \n",
            " malization)                                                                                      \n",
            "                                                                                                  \n",
            " block_6_depthwise_relu (ReLU)  (None, 14, 14, 192)  0           ['block_6_depthwise_BN[0][0]']   \n",
            "                                                                                                  \n",
            " block_6_project (Conv2D)       (None, 14, 14, 64)   12288       ['block_6_depthwise_relu[0][0]'] \n",
            "                                                                                                  \n",
            " block_6_project_BN (BatchNorma  (None, 14, 14, 64)  256         ['block_6_project[0][0]']        \n",
            " lization)                                                                                        \n",
            "                                                                                                  \n",
            " block_7_expand (Conv2D)        (None, 14, 14, 384)  24576       ['block_6_project_BN[0][0]']     \n",
            "                                                                                                  \n",
            " block_7_expand_BN (BatchNormal  (None, 14, 14, 384)  1536       ['block_7_expand[0][0]']         \n",
            " ization)                                                                                         \n",
            "                                                                                                  \n",
            " block_7_expand_relu (ReLU)     (None, 14, 14, 384)  0           ['block_7_expand_BN[0][0]']      \n",
            "                                                                                                  \n",
            " block_7_depthwise (DepthwiseCo  (None, 14, 14, 384)  3456       ['block_7_expand_relu[0][0]']    \n",
            " nv2D)                                                                                            \n",
            "                                                                                                  \n",
            " block_7_depthwise_BN (BatchNor  (None, 14, 14, 384)  1536       ['block_7_depthwise[0][0]']      \n",
            " malization)                                                                                      \n",
            "                                                                                                  \n",
            " block_7_depthwise_relu (ReLU)  (None, 14, 14, 384)  0           ['block_7_depthwise_BN[0][0]']   \n",
            "                                                                                                  \n",
            " block_7_project (Conv2D)       (None, 14, 14, 64)   24576       ['block_7_depthwise_relu[0][0]'] \n",
            "                                                                                                  \n",
            " block_7_project_BN (BatchNorma  (None, 14, 14, 64)  256         ['block_7_project[0][0]']        \n",
            " lization)                                                                                        \n",
            "                                                                                                  \n",
            " block_7_add (Add)              (None, 14, 14, 64)   0           ['block_6_project_BN[0][0]',     \n",
            "                                                                  'block_7_project_BN[0][0]']     \n",
            "                                                                                                  \n",
            " block_8_expand (Conv2D)        (None, 14, 14, 384)  24576       ['block_7_add[0][0]']            \n",
            "                                                                                                  \n",
            " block_8_expand_BN (BatchNormal  (None, 14, 14, 384)  1536       ['block_8_expand[0][0]']         \n",
            " ization)                                                                                         \n",
            "                                                                                                  \n",
            " block_8_expand_relu (ReLU)     (None, 14, 14, 384)  0           ['block_8_expand_BN[0][0]']      \n",
            "                                                                                                  \n",
            " block_8_depthwise (DepthwiseCo  (None, 14, 14, 384)  3456       ['block_8_expand_relu[0][0]']    \n",
            " nv2D)                                                                                            \n",
            "                                                                                                  \n",
            " block_8_depthwise_BN (BatchNor  (None, 14, 14, 384)  1536       ['block_8_depthwise[0][0]']      \n",
            " malization)                                                                                      \n",
            "                                                                                                  \n",
            " block_8_depthwise_relu (ReLU)  (None, 14, 14, 384)  0           ['block_8_depthwise_BN[0][0]']   \n",
            "                                                                                                  \n",
            " block_8_project (Conv2D)       (None, 14, 14, 64)   24576       ['block_8_depthwise_relu[0][0]'] \n",
            "                                                                                                  \n",
            " block_8_project_BN (BatchNorma  (None, 14, 14, 64)  256         ['block_8_project[0][0]']        \n",
            " lization)                                                                                        \n",
            "                                                                                                  \n",
            " block_8_add (Add)              (None, 14, 14, 64)   0           ['block_7_add[0][0]',            \n",
            "                                                                  'block_8_project_BN[0][0]']     \n",
            "                                                                                                  \n",
            " block_9_expand (Conv2D)        (None, 14, 14, 384)  24576       ['block_8_add[0][0]']            \n",
            "                                                                                                  \n",
            " block_9_expand_BN (BatchNormal  (None, 14, 14, 384)  1536       ['block_9_expand[0][0]']         \n",
            " ization)                                                                                         \n",
            "                                                                                                  \n",
            " block_9_expand_relu (ReLU)     (None, 14, 14, 384)  0           ['block_9_expand_BN[0][0]']      \n",
            "                                                                                                  \n",
            " block_9_depthwise (DepthwiseCo  (None, 14, 14, 384)  3456       ['block_9_expand_relu[0][0]']    \n",
            " nv2D)                                                                                            \n",
            "                                                                                                  \n",
            " block_9_depthwise_BN (BatchNor  (None, 14, 14, 384)  1536       ['block_9_depthwise[0][0]']      \n",
            " malization)                                                                                      \n",
            "                                                                                                  \n",
            " block_9_depthwise_relu (ReLU)  (None, 14, 14, 384)  0           ['block_9_depthwise_BN[0][0]']   \n",
            "                                                                                                  \n",
            " block_9_project (Conv2D)       (None, 14, 14, 64)   24576       ['block_9_depthwise_relu[0][0]'] \n",
            "                                                                                                  \n",
            " block_9_project_BN (BatchNorma  (None, 14, 14, 64)  256         ['block_9_project[0][0]']        \n",
            " lization)                                                                                        \n",
            "                                                                                                  \n",
            " block_9_add (Add)              (None, 14, 14, 64)   0           ['block_8_add[0][0]',            \n",
            "                                                                  'block_9_project_BN[0][0]']     \n",
            "                                                                                                  \n",
            " block_10_expand (Conv2D)       (None, 14, 14, 384)  24576       ['block_9_add[0][0]']            \n",
            "                                                                                                  \n",
            " block_10_expand_BN (BatchNorma  (None, 14, 14, 384)  1536       ['block_10_expand[0][0]']        \n",
            " lization)                                                                                        \n",
            "                                                                                                  \n",
            " block_10_expand_relu (ReLU)    (None, 14, 14, 384)  0           ['block_10_expand_BN[0][0]']     \n",
            "                                                                                                  \n",
            " block_10_depthwise (DepthwiseC  (None, 14, 14, 384)  3456       ['block_10_expand_relu[0][0]']   \n",
            " onv2D)                                                                                           \n",
            "                                                                                                  \n",
            " block_10_depthwise_BN (BatchNo  (None, 14, 14, 384)  1536       ['block_10_depthwise[0][0]']     \n",
            " rmalization)                                                                                     \n",
            "                                                                                                  \n",
            " block_10_depthwise_relu (ReLU)  (None, 14, 14, 384)  0          ['block_10_depthwise_BN[0][0]']  \n",
            "                                                                                                  \n",
            " block_10_project (Conv2D)      (None, 14, 14, 96)   36864       ['block_10_depthwise_relu[0][0]']\n",
            "                                                                                                  \n",
            " block_10_project_BN (BatchNorm  (None, 14, 14, 96)  384         ['block_10_project[0][0]']       \n",
            " alization)                                                                                       \n",
            "                                                                                                  \n",
            " block_11_expand (Conv2D)       (None, 14, 14, 576)  55296       ['block_10_project_BN[0][0]']    \n",
            "                                                                                                  \n",
            " block_11_expand_BN (BatchNorma  (None, 14, 14, 576)  2304       ['block_11_expand[0][0]']        \n",
            " lization)                                                                                        \n",
            "                                                                                                  \n",
            " block_11_expand_relu (ReLU)    (None, 14, 14, 576)  0           ['block_11_expand_BN[0][0]']     \n",
            "                                                                                                  \n",
            " block_11_depthwise (DepthwiseC  (None, 14, 14, 576)  5184       ['block_11_expand_relu[0][0]']   \n",
            " onv2D)                                                                                           \n",
            "                                                                                                  \n",
            " block_11_depthwise_BN (BatchNo  (None, 14, 14, 576)  2304       ['block_11_depthwise[0][0]']     \n",
            " rmalization)                                                                                     \n",
            "                                                                                                  \n",
            " block_11_depthwise_relu (ReLU)  (None, 14, 14, 576)  0          ['block_11_depthwise_BN[0][0]']  \n",
            "                                                                                                  \n",
            " block_11_project (Conv2D)      (None, 14, 14, 96)   55296       ['block_11_depthwise_relu[0][0]']\n",
            "                                                                                                  \n",
            " block_11_project_BN (BatchNorm  (None, 14, 14, 96)  384         ['block_11_project[0][0]']       \n",
            " alization)                                                                                       \n",
            "                                                                                                  \n",
            " block_11_add (Add)             (None, 14, 14, 96)   0           ['block_10_project_BN[0][0]',    \n",
            "                                                                  'block_11_project_BN[0][0]']    \n",
            "                                                                                                  \n",
            " block_12_expand (Conv2D)       (None, 14, 14, 576)  55296       ['block_11_add[0][0]']           \n",
            "                                                                                                  \n",
            " block_12_expand_BN (BatchNorma  (None, 14, 14, 576)  2304       ['block_12_expand[0][0]']        \n",
            " lization)                                                                                        \n",
            "                                                                                                  \n",
            " block_12_expand_relu (ReLU)    (None, 14, 14, 576)  0           ['block_12_expand_BN[0][0]']     \n",
            "                                                                                                  \n",
            " block_12_depthwise (DepthwiseC  (None, 14, 14, 576)  5184       ['block_12_expand_relu[0][0]']   \n",
            " onv2D)                                                                                           \n",
            "                                                                                                  \n",
            " block_12_depthwise_BN (BatchNo  (None, 14, 14, 576)  2304       ['block_12_depthwise[0][0]']     \n",
            " rmalization)                                                                                     \n",
            "                                                                                                  \n",
            " block_12_depthwise_relu (ReLU)  (None, 14, 14, 576)  0          ['block_12_depthwise_BN[0][0]']  \n",
            "                                                                                                  \n",
            " block_12_project (Conv2D)      (None, 14, 14, 96)   55296       ['block_12_depthwise_relu[0][0]']\n",
            "                                                                                                  \n",
            " block_12_project_BN (BatchNorm  (None, 14, 14, 96)  384         ['block_12_project[0][0]']       \n",
            " alization)                                                                                       \n",
            "                                                                                                  \n",
            " block_12_add (Add)             (None, 14, 14, 96)   0           ['block_11_add[0][0]',           \n",
            "                                                                  'block_12_project_BN[0][0]']    \n",
            "                                                                                                  \n",
            " block_13_expand (Conv2D)       (None, 14, 14, 576)  55296       ['block_12_add[0][0]']           \n",
            "                                                                                                  \n",
            " block_13_expand_BN (BatchNorma  (None, 14, 14, 576)  2304       ['block_13_expand[0][0]']        \n",
            " lization)                                                                                        \n",
            "                                                                                                  \n",
            " block_13_expand_relu (ReLU)    (None, 14, 14, 576)  0           ['block_13_expand_BN[0][0]']     \n",
            "                                                                                                  \n",
            " block_13_pad (ZeroPadding2D)   (None, 15, 15, 576)  0           ['block_13_expand_relu[0][0]']   \n",
            "                                                                                                  \n",
            " block_13_depthwise (DepthwiseC  (None, 7, 7, 576)   5184        ['block_13_pad[0][0]']           \n",
            " onv2D)                                                                                           \n",
            "                                                                                                  \n",
            " block_13_depthwise_BN (BatchNo  (None, 7, 7, 576)   2304        ['block_13_depthwise[0][0]']     \n",
            " rmalization)                                                                                     \n",
            "                                                                                                  \n",
            " block_13_depthwise_relu (ReLU)  (None, 7, 7, 576)   0           ['block_13_depthwise_BN[0][0]']  \n",
            "                                                                                                  \n",
            " block_13_project (Conv2D)      (None, 7, 7, 160)    92160       ['block_13_depthwise_relu[0][0]']\n",
            "                                                                                                  \n",
            " block_13_project_BN (BatchNorm  (None, 7, 7, 160)   640         ['block_13_project[0][0]']       \n",
            " alization)                                                                                       \n",
            "                                                                                                  \n",
            " block_14_expand (Conv2D)       (None, 7, 7, 960)    153600      ['block_13_project_BN[0][0]']    \n",
            "                                                                                                  \n",
            " block_14_expand_BN (BatchNorma  (None, 7, 7, 960)   3840        ['block_14_expand[0][0]']        \n",
            " lization)                                                                                        \n",
            "                                                                                                  \n",
            " block_14_expand_relu (ReLU)    (None, 7, 7, 960)    0           ['block_14_expand_BN[0][0]']     \n",
            "                                                                                                  \n",
            " block_14_depthwise (DepthwiseC  (None, 7, 7, 960)   8640        ['block_14_expand_relu[0][0]']   \n",
            " onv2D)                                                                                           \n",
            "                                                                                                  \n",
            " block_14_depthwise_BN (BatchNo  (None, 7, 7, 960)   3840        ['block_14_depthwise[0][0]']     \n",
            " rmalization)                                                                                     \n",
            "                                                                                                  \n",
            " block_14_depthwise_relu (ReLU)  (None, 7, 7, 960)   0           ['block_14_depthwise_BN[0][0]']  \n",
            "                                                                                                  \n",
            " block_14_project (Conv2D)      (None, 7, 7, 160)    153600      ['block_14_depthwise_relu[0][0]']\n",
            "                                                                                                  \n",
            " block_14_project_BN (BatchNorm  (None, 7, 7, 160)   640         ['block_14_project[0][0]']       \n",
            " alization)                                                                                       \n",
            "                                                                                                  \n",
            " block_14_add (Add)             (None, 7, 7, 160)    0           ['block_13_project_BN[0][0]',    \n",
            "                                                                  'block_14_project_BN[0][0]']    \n",
            "                                                                                                  \n",
            " block_15_expand (Conv2D)       (None, 7, 7, 960)    153600      ['block_14_add[0][0]']           \n",
            "                                                                                                  \n",
            " block_15_expand_BN (BatchNorma  (None, 7, 7, 960)   3840        ['block_15_expand[0][0]']        \n",
            " lization)                                                                                        \n",
            "                                                                                                  \n",
            " block_15_expand_relu (ReLU)    (None, 7, 7, 960)    0           ['block_15_expand_BN[0][0]']     \n",
            "                                                                                                  \n",
            " block_15_depthwise (DepthwiseC  (None, 7, 7, 960)   8640        ['block_15_expand_relu[0][0]']   \n",
            " onv2D)                                                                                           \n",
            "                                                                                                  \n",
            " block_15_depthwise_BN (BatchNo  (None, 7, 7, 960)   3840        ['block_15_depthwise[0][0]']     \n",
            " rmalization)                                                                                     \n",
            "                                                                                                  \n",
            " block_15_depthwise_relu (ReLU)  (None, 7, 7, 960)   0           ['block_15_depthwise_BN[0][0]']  \n",
            "                                                                                                  \n",
            " block_15_project (Conv2D)      (None, 7, 7, 160)    153600      ['block_15_depthwise_relu[0][0]']\n",
            "                                                                                                  \n",
            " block_15_project_BN (BatchNorm  (None, 7, 7, 160)   640         ['block_15_project[0][0]']       \n",
            " alization)                                                                                       \n",
            "                                                                                                  \n",
            " block_15_add (Add)             (None, 7, 7, 160)    0           ['block_14_add[0][0]',           \n",
            "                                                                  'block_15_project_BN[0][0]']    \n",
            "                                                                                                  \n",
            " block_16_expand (Conv2D)       (None, 7, 7, 960)    153600      ['block_15_add[0][0]']           \n",
            "                                                                                                  \n",
            " block_16_expand_BN (BatchNorma  (None, 7, 7, 960)   3840        ['block_16_expand[0][0]']        \n",
            " lization)                                                                                        \n",
            "                                                                                                  \n",
            " block_16_expand_relu (ReLU)    (None, 7, 7, 960)    0           ['block_16_expand_BN[0][0]']     \n",
            "                                                                                                  \n",
            " block_16_depthwise (DepthwiseC  (None, 7, 7, 960)   8640        ['block_16_expand_relu[0][0]']   \n",
            " onv2D)                                                                                           \n",
            "                                                                                                  \n",
            " block_16_depthwise_BN (BatchNo  (None, 7, 7, 960)   3840        ['block_16_depthwise[0][0]']     \n",
            " rmalization)                                                                                     \n",
            "                                                                                                  \n",
            " block_16_depthwise_relu (ReLU)  (None, 7, 7, 960)   0           ['block_16_depthwise_BN[0][0]']  \n",
            "                                                                                                  \n",
            " block_16_project (Conv2D)      (None, 7, 7, 320)    307200      ['block_16_depthwise_relu[0][0]']\n",
            "                                                                                                  \n",
            " block_16_project_BN (BatchNorm  (None, 7, 7, 320)   1280        ['block_16_project[0][0]']       \n",
            " alization)                                                                                       \n",
            "                                                                                                  \n",
            " Conv_1 (Conv2D)                (None, 7, 7, 1280)   409600      ['block_16_project_BN[0][0]']    \n",
            "                                                                                                  \n",
            " Conv_1_bn (BatchNormalization)  (None, 7, 7, 1280)  5120        ['Conv_1[0][0]']                 \n",
            "                                                                                                  \n",
            " out_relu (ReLU)                (None, 7, 7, 1280)   0           ['Conv_1_bn[0][0]']              \n",
            "                                                                                                  \n",
            " global_average_pooling2d_1 (Gl  (None, 1280)        0           ['out_relu[0][0]']               \n",
            " obalAveragePooling2D)                                                                            \n",
            "                                                                                                  \n",
            " dense_3 (Dense)                (None, 256)          327936      ['global_average_pooling2d_1[0][0\n",
            "                                                                 ]']                              \n",
            "                                                                                                  \n",
            " dropout_2 (Dropout)            (None, 256)          0           ['dense_3[0][0]']                \n",
            "                                                                                                  \n",
            " dense_4 (Dense)                (None, 256)          65792       ['dropout_2[0][0]']              \n",
            "                                                                                                  \n",
            " dropout_3 (Dropout)            (None, 256)          0           ['dense_4[0][0]']                \n",
            "                                                                                                  \n",
            " dense_5 (Dense)                (None, 1)            257         ['dropout_3[0][0]']              \n",
            "                                                                                                  \n",
            "==================================================================================================\n",
            "Total params: 2,651,969\n",
            "Trainable params: 393,985\n",
            "Non-trainable params: 2,257,984\n",
            "__________________________________________________________________________________________________\n"
          ]
        }
      ],
      "source": [
        "base_model_mobilenet = MobileNetV2(\n",
        "    input_shape=(224, 224, 3),\n",
        "    include_top=False,\n",
        "    weights='imagenet',\n",
        "    pooling='avg')\n",
        "base_model_mobilenet.trainable = False\n",
        "\n",
        "model_mobilenet = Sequential([\n",
        "      base_model_mobilenet,\n",
        "      Dense(256,activation='relu'),\n",
        "      Dropout(0.2),\n",
        "      Dense(256,activation='relu'),\n",
        "      Dropout(0.2),\n",
        "      Dense(1,activation='sigmoid')])\n",
        "\n",
        "model_mobilenet.summary()"
      ]
    },
    {
      "cell_type": "code",
      "execution_count": null,
      "metadata": {
        "id": "ZLbnbiBzZsSG"
      },
      "outputs": [],
      "source": [
        "model_mobilenet.compile(Adam(learning_rate=.001), loss='binary_crossentropy', metrics=['accuracy'])"
      ]
    },
    {
      "cell_type": "code",
      "execution_count": null,
      "metadata": {
        "colab": {
          "base_uri": "https://localhost:8080/"
        },
        "id": "mlPTiD24ZvUv",
        "outputId": "0ff30da9-32e8-402e-c7d9-25c5e440a940"
      },
      "outputs": [
        {
          "name": "stdout",
          "output_type": "stream",
          "text": [
            "Epoch 1/40\n",
            "40/40 [==============================] - ETA: 0s - loss: 0.5338 - accuracy: 0.7313\n",
            "Epoch 1: val_accuracy improved from -inf to 0.83099, saving model to 01.h5\n",
            "40/40 [==============================] - 172s 4s/step - loss: 0.5338 - accuracy: 0.7313 - val_loss: 0.3715 - val_accuracy: 0.8310 - lr: 0.0010\n",
            "Epoch 2/40\n",
            "40/40 [==============================] - ETA: 0s - loss: 0.2942 - accuracy: 0.8758\n",
            "Epoch 2: val_accuracy improved from 0.83099 to 0.92019, saving model to 02.h5\n",
            "40/40 [==============================] - 167s 4s/step - loss: 0.2942 - accuracy: 0.8758 - val_loss: 0.2301 - val_accuracy: 0.9202 - lr: 0.0010\n",
            "Epoch 3/40\n",
            "40/40 [==============================] - ETA: 0s - loss: 0.1978 - accuracy: 0.9177\n",
            "Epoch 3: val_accuracy improved from 0.92019 to 0.94053, saving model to 03.h5\n",
            "40/40 [==============================] - 165s 4s/step - loss: 0.1978 - accuracy: 0.9177 - val_loss: 0.1813 - val_accuracy: 0.9405 - lr: 0.0010\n",
            "Epoch 4/40\n",
            "40/40 [==============================] - ETA: 0s - loss: 0.1456 - accuracy: 0.9369\n",
            "Epoch 4: val_accuracy did not improve from 0.94053\n",
            "40/40 [==============================] - 153s 4s/step - loss: 0.1456 - accuracy: 0.9369 - val_loss: 0.1661 - val_accuracy: 0.9343 - lr: 0.0010\n",
            "Epoch 5/40\n",
            "40/40 [==============================] - ETA: 0s - loss: 0.1355 - accuracy: 0.9397\n",
            "Epoch 5: val_accuracy did not improve from 0.94053\n",
            "40/40 [==============================] - 167s 4s/step - loss: 0.1355 - accuracy: 0.9397 - val_loss: 0.1883 - val_accuracy: 0.9202 - lr: 0.0010\n",
            "Epoch 6/40\n",
            "40/40 [==============================] - ETA: 0s - loss: 0.1125 - accuracy: 0.9514\n",
            "Epoch 6: val_accuracy did not improve from 0.94053\n",
            "40/40 [==============================] - 165s 4s/step - loss: 0.1125 - accuracy: 0.9514 - val_loss: 0.1649 - val_accuracy: 0.9296 - lr: 0.0010\n",
            "Epoch 7/40\n",
            "40/40 [==============================] - ETA: 0s - loss: 0.0859 - accuracy: 0.9671\n",
            "Epoch 7: ReduceLROnPlateau reducing learning rate to 0.00020000000949949026.\n",
            "\n",
            "Epoch 7: val_accuracy did not improve from 0.94053\n",
            "40/40 [==============================] - 166s 4s/step - loss: 0.0859 - accuracy: 0.9671 - val_loss: 0.1337 - val_accuracy: 0.9327 - lr: 0.0010\n",
            "Epoch 8/40\n",
            "40/40 [==============================] - ETA: 0s - loss: 0.0651 - accuracy: 0.9745\n",
            "Epoch 8: val_accuracy did not improve from 0.94053\n",
            "40/40 [==============================] - 163s 4s/step - loss: 0.0651 - accuracy: 0.9745 - val_loss: 0.1176 - val_accuracy: 0.9405 - lr: 2.0000e-04\n",
            "Epoch 9/40\n",
            "40/40 [==============================] - ETA: 0s - loss: 0.0560 - accuracy: 0.9777\n",
            "Epoch 9: val_accuracy did not improve from 0.94053\n",
            "40/40 [==============================] - 162s 4s/step - loss: 0.0560 - accuracy: 0.9777 - val_loss: 0.1267 - val_accuracy: 0.9358 - lr: 2.0000e-04\n",
            "Epoch 10/40\n",
            "40/40 [==============================] - ETA: 0s - loss: 0.0488 - accuracy: 0.9832\n",
            "Epoch 10: val_accuracy improved from 0.94053 to 0.94366, saving model to 10.h5\n",
            "40/40 [==============================] - 164s 4s/step - loss: 0.0488 - accuracy: 0.9832 - val_loss: 0.1224 - val_accuracy: 0.9437 - lr: 2.0000e-04\n",
            "Epoch 11/40\n",
            "40/40 [==============================] - ETA: 0s - loss: 0.0492 - accuracy: 0.9804\n",
            "Epoch 11: val_accuracy improved from 0.94366 to 0.94523, saving model to 11.h5\n",
            "40/40 [==============================] - 151s 4s/step - loss: 0.0492 - accuracy: 0.9804 - val_loss: 0.1211 - val_accuracy: 0.9452 - lr: 2.0000e-04\n",
            "Epoch 12/40\n",
            "40/40 [==============================] - ETA: 0s - loss: 0.0446 - accuracy: 0.9843\n",
            "Epoch 12: val_accuracy did not improve from 0.94523\n",
            "40/40 [==============================] - 162s 4s/step - loss: 0.0446 - accuracy: 0.9843 - val_loss: 0.1280 - val_accuracy: 0.9374 - lr: 2.0000e-04\n",
            "Epoch 13/40\n",
            "40/40 [==============================] - ETA: 0s - loss: 0.0422 - accuracy: 0.9835\n",
            "Epoch 13: val_accuracy did not improve from 0.94523\n",
            "40/40 [==============================] - 165s 4s/step - loss: 0.0422 - accuracy: 0.9835 - val_loss: 0.1307 - val_accuracy: 0.9405 - lr: 2.0000e-04\n",
            "Epoch 14/40\n",
            "40/40 [==============================] - ETA: 0s - loss: 0.0394 - accuracy: 0.9851\n",
            "Epoch 14: val_accuracy did not improve from 0.94523\n",
            "40/40 [==============================] - 164s 4s/step - loss: 0.0394 - accuracy: 0.9851 - val_loss: 0.1298 - val_accuracy: 0.9390 - lr: 2.0000e-04\n",
            "Epoch 15/40\n",
            "40/40 [==============================] - ETA: 0s - loss: 0.0382 - accuracy: 0.9863\n",
            "Epoch 15: ReduceLROnPlateau reducing learning rate to 4.0000001899898055e-05.\n",
            "\n",
            "Epoch 15: val_accuracy did not improve from 0.94523\n",
            "40/40 [==============================] - 154s 4s/step - loss: 0.0382 - accuracy: 0.9863 - val_loss: 0.1284 - val_accuracy: 0.9390 - lr: 2.0000e-04\n",
            "Epoch 16/40\n",
            "40/40 [==============================] - ETA: 0s - loss: 0.0343 - accuracy: 0.9882\n",
            "Epoch 16: val_accuracy did not improve from 0.94523\n",
            "40/40 [==============================] - 164s 4s/step - loss: 0.0343 - accuracy: 0.9882 - val_loss: 0.1269 - val_accuracy: 0.9421 - lr: 4.0000e-05\n",
            "Epoch 17/40\n",
            "40/40 [==============================] - ETA: 0s - loss: 0.0307 - accuracy: 0.9902\n",
            "Epoch 17: val_accuracy did not improve from 0.94523\n",
            "40/40 [==============================] - 163s 4s/step - loss: 0.0307 - accuracy: 0.9902 - val_loss: 0.1280 - val_accuracy: 0.9421 - lr: 4.0000e-05\n",
            "Epoch 18/40\n",
            "40/40 [==============================] - ETA: 0s - loss: 0.0326 - accuracy: 0.9882\n",
            "Epoch 18: val_accuracy did not improve from 0.94523\n",
            "40/40 [==============================] - 165s 4s/step - loss: 0.0326 - accuracy: 0.9882 - val_loss: 0.1273 - val_accuracy: 0.9437 - lr: 4.0000e-05\n",
            "Epoch 19/40\n",
            "40/40 [==============================] - ETA: 0s - loss: 0.0316 - accuracy: 0.9898\n",
            "Epoch 19: ReduceLROnPlateau reducing learning rate to 8.000000525498762e-06.\n",
            "\n",
            "Epoch 19: val_accuracy did not improve from 0.94523\n",
            "40/40 [==============================] - 151s 4s/step - loss: 0.0316 - accuracy: 0.9898 - val_loss: 0.1288 - val_accuracy: 0.9405 - lr: 4.0000e-05\n",
            "Epoch 20/40\n",
            "40/40 [==============================] - ETA: 0s - loss: 0.0292 - accuracy: 0.9926\n",
            "Epoch 20: val_accuracy did not improve from 0.94523\n",
            "40/40 [==============================] - 151s 4s/step - loss: 0.0292 - accuracy: 0.9926 - val_loss: 0.1278 - val_accuracy: 0.9405 - lr: 8.0000e-06\n",
            "Epoch 21/40\n",
            "40/40 [==============================] - ETA: 0s - loss: 0.0287 - accuracy: 0.9918\n",
            "Epoch 21: val_accuracy did not improve from 0.94523\n",
            "40/40 [==============================] - 164s 4s/step - loss: 0.0287 - accuracy: 0.9918 - val_loss: 0.1277 - val_accuracy: 0.9421 - lr: 8.0000e-06\n",
            "Epoch 22/40\n",
            "40/40 [==============================] - ETA: 0s - loss: 0.0300 - accuracy: 0.9902\n",
            "Epoch 22: val_accuracy did not improve from 0.94523\n",
            "40/40 [==============================] - 164s 4s/step - loss: 0.0300 - accuracy: 0.9902 - val_loss: 0.1280 - val_accuracy: 0.9421 - lr: 8.0000e-06\n",
            "Epoch 23/40\n",
            "40/40 [==============================] - ETA: 0s - loss: 0.0329 - accuracy: 0.9898\n",
            "Epoch 23: ReduceLROnPlateau reducing learning rate to 1.6000001778593287e-06.\n",
            "\n",
            "Epoch 23: val_accuracy did not improve from 0.94523\n",
            "40/40 [==============================] - 165s 4s/step - loss: 0.0329 - accuracy: 0.9898 - val_loss: 0.1281 - val_accuracy: 0.9421 - lr: 8.0000e-06\n",
            "Epoch 24/40\n",
            "40/40 [==============================] - ETA: 0s - loss: 0.0271 - accuracy: 0.9914\n",
            "Epoch 24: val_accuracy did not improve from 0.94523\n",
            "40/40 [==============================] - 163s 4s/step - loss: 0.0271 - accuracy: 0.9914 - val_loss: 0.1281 - val_accuracy: 0.9421 - lr: 1.6000e-06\n",
            "Epoch 25/40\n",
            "40/40 [==============================] - ETA: 0s - loss: 0.0286 - accuracy: 0.9922\n",
            "Epoch 25: val_accuracy did not improve from 0.94523\n",
            "40/40 [==============================] - 164s 4s/step - loss: 0.0286 - accuracy: 0.9922 - val_loss: 0.1283 - val_accuracy: 0.9421 - lr: 1.6000e-06\n",
            "Epoch 26/40\n",
            "40/40 [==============================] - ETA: 0s - loss: 0.0338 - accuracy: 0.9894\n",
            "Epoch 26: val_accuracy did not improve from 0.94523\n",
            "40/40 [==============================] - 152s 4s/step - loss: 0.0338 - accuracy: 0.9894 - val_loss: 0.1283 - val_accuracy: 0.9421 - lr: 1.6000e-06\n",
            "Epoch 26: early stopping\n"
          ]
        }
      ],
      "source": [
        "hist_mobilenet=model_mobilenet.fit(\n",
        "      train_data,\n",
        "      epochs=40,\n",
        "      validation_data=valid_data,\n",
        "      callbacks=cb\n",
        "  )"
      ]
    },
    {
      "cell_type": "code",
      "execution_count": null,
      "metadata": {
        "colab": {
          "base_uri": "https://localhost:8080/",
          "height": 308
        },
        "id": "f_9i4kXIZw7A",
        "outputId": "b1fc4721-5c95-40de-89b8-4ef92e141fd5"
      },
      "outputs": [
        {
          "data": {
            "image/png": "[encoded data removed]",
            "text/plain": [
              "<Figure size 432x288 with 1 Axes>"
            ]
          },
          "metadata": {},
          "output_type": "display_data"
        }
      ],
      "source": [
        "fig = plt.figure()\n",
        "plt.plot(hist_mobilenet.history['loss'], color='teal', label='TL')\n",
        "plt.plot(hist_mobilenet.history['val_loss'], color='orange', label='VL')\n",
        "plt.plot(hist_mobilenet.history['accuracy'], color='green', label='TA')\n",
        "plt.plot(hist_mobilenet.history['val_accuracy'], color='red', label='VA')\n",
        "plt.xlabel(\"Epoch\")\n",
        "plt.ylabel(\"Loss/Accuracy\")\n",
        "fig.suptitle('MobileNetV2', fontsize=20)\n",
        "plt.legend(loc=\"lower left\")\n",
        "plt.show()"
      ]
    },
    {
      "cell_type": "code",
      "source": [
        "model_mobilenet.load_weights('11.h5')"
      ],
      "metadata": {
        "id": "DQVyqpYjt7Ul"
      },
      "execution_count": null,
      "outputs": []
    },
    {
      "cell_type": "code",
      "source": [
        "#For model json\n",
        "model_json = model_mobilenet.to_json()\n",
        "with open(\"model_monkeypox_mobilenet.json\",\"w\") as json_file:\n",
        "     json_file.write(model_json)\n",
        "files.download(\"model_monkeypox_mobilenet.json\")\n",
        "\n",
        "#For weights\n",
        "model_mobilenet.save('weights_monkeypox_mobilenet.h5')\n",
        "files.download('weights_monkeypox_mobilenet.h5')"
      ],
      "metadata": {
        "id": "ODgnNHqdxVjG"
      },
      "execution_count": null,
      "outputs": []
    },
    {
      "cell_type": "code",
      "execution_count": null,
      "metadata": {
        "colab": {
          "base_uri": "https://localhost:8080/"
        },
        "id": "F7p22aQ48bSS",
        "outputId": "f7de0dc0-20c7-40dc-ce05-2a423c3bfe05"
      },
      "outputs": [
        {
          "name": "stdout",
          "output_type": "stream",
          "text": [
            "20/20 [==============================] - 34s 2s/step\n"
          ]
        }
      ],
      "source": [
        "y_predicted_mobilenet = model_mobilenet.predict(valid_data) > 0.5\n",
        "y_predicted_train_mobilenet = model_mobilenet.predict(train_data) > 0.5"
      ]
    },
    {
      "cell_type": "code",
      "execution_count": null,
      "metadata": {
        "colab": {
          "base_uri": "https://localhost:8080/",
          "height": 330
        },
        "id": "6HwvKmY9vlSr",
        "outputId": "52177fc8-be6c-4385-d45d-6242c0c165ee"
      },
      "outputs": [
        {
          "name": "stdout",
          "output_type": "stream",
          "text": [
            "20/20 [==============================] - 34s 2s/step\n"
          ]
        },
        {
          "data": {
            "text/plain": [
              "Text(91.68, 0.5, 'Actual label')"
            ]
          },
          "execution_count": 46,
          "metadata": {},
          "output_type": "execute_result"
        },
        {
          "data": {
            "image/png": "[encoded data removed]",
            "text/plain": [
              "<Figure size 432x288 with 1 Axes>"
            ]
          },
          "metadata": {},
          "output_type": "display_data"
        }
      ],
      "source": [
        "mat = confusion_matrix(valid_data.classes, y_predicted_mobilenet)\n",
        "labels = ['Monkeypox', 'Others']\n",
        "ax = plt.axes()\n",
        "sns.heatmap(mat, square=True, annot=True, fmt='d', cbar=False, cmap='Blues',\n",
        "            xticklabels=labels, yticklabels=labels, ax=ax)\n",
        "ax.set_title('MobileNetV2')\n",
        "plt.xlabel('Predicted label')\n",
        "plt.ylabel('Actual label')"
      ]
    },
    {
      "cell_type": "code",
      "execution_count": null,
      "metadata": {
        "colab": {
          "base_uri": "https://localhost:8080/"
        },
        "id": "lZrjT_kM95PU",
        "outputId": "690208b9-5a00-4499-e684-2b0491ddbd16"
      },
      "outputs": [
        {
          "data": {
            "text/plain": [
              "0.9884085636871169"
            ]
          },
          "execution_count": 59,
          "metadata": {},
          "output_type": "execute_result"
        }
      ],
      "source": [
        "roc_auc_score(train_data.classes, y_predicted_train_mobilenet)"
      ]
    },
    {
      "cell_type": "code",
      "execution_count": null,
      "metadata": {
        "colab": {
          "base_uri": "https://localhost:8080/",
          "height": 325
        },
        "id": "o_JNytL55qU9",
        "outputId": "3b1ab9aa-e157-4ced-d584-400e739abc07"
      },
      "outputs": [
        {
          "data": {
            "text/plain": [
              "<matplotlib.legend.Legend at 0x7f184acea7c0>"
            ]
          },
          "execution_count": 61,
          "metadata": {},
          "output_type": "execute_result"
        },
        {
          "data": {
            "image/png": "[encoded data removed]",
            "text/plain": [
              "<Figure size 432x288 with 1 Axes>"
            ]
          },
          "metadata": {},
          "output_type": "display_data"
        }
      ],
      "source": [
        "fig = plt.figure()\n",
        "fpr, tpr, thresholds = roc_curve(valid_data.classes, y_predicted_mobilenet)\n",
        "fpr1, tpr1, thresholds1 = roc_curve(train_data.classes, y_predicted_train_mobilenet)\n",
        "plt.plot(fpr1, tpr1, label='Train AUC = 0.9884', color='teal')\n",
        "plt.plot(fpr, tpr, label='Validation AUC = 0.9437', color='orange')\n",
        "plt.xlabel('False Positive Rate')\n",
        "plt.ylabel('True Positive Rate')\n",
        "fig.suptitle('MobileNetV2', fontsize=20)\n",
        "plt.legend(loc=\"lower right\")"
      ]
    },
    {
      "cell_type": "markdown",
      "source": [
        "# **Xception**"
      ],
      "metadata": {
        "id": "r3sgyUVpvFDw"
      }
    },
    {
      "cell_type": "code",
      "execution_count": null,
      "metadata": {
        "colab": {
          "background_save": true,
          "base_uri": "https://localhost:8080/"
        },
        "id": "295WgZiMsTUW",
        "outputId": "63b64358-0a1e-4627-ee9c-67b3c6a0d8b2"
      },
      "outputs": [
        {
          "name": "stdout",
          "output_type": "stream",
          "text": [
            "Model: \"sequential_1\"\n",
            "_________________________________________________________________\n",
            " Layer (type)                Output Shape              Param #   \n",
            "=================================================================\n",
            " xception (Functional)       (None, 7, 7, 2048)        20861480  \n",
            "                                                                 \n",
            " global_max_pooling2d_1 (Glo  (None, 2048)             0         \n",
            " balMaxPooling2D)                                                \n",
            "                                                                 \n",
            " dense_2 (Dense)             (None, 1024)              2098176   \n",
            "                                                                 \n",
            " batch_normalization_9 (Batc  (None, 1024)             4096      \n",
            " hNormalization)                                                 \n",
            "                                                                 \n",
            " dense_3 (Dense)             (None, 1)                 1025      \n",
            "                                                                 \n",
            "=================================================================\n",
            "Total params: 22,964,777\n",
            "Trainable params: 2,101,249\n",
            "Non-trainable params: 20,863,528\n",
            "_________________________________________________________________\n"
          ]
        }
      ],
      "source": [
        "base_model_xception=Xception(\n",
        "    include_top=False,\n",
        "    input_shape=(224,224,3)\n",
        ")\n",
        "base_model_xception.trainable=False\n",
        "\n",
        "model_xception = Sequential([\n",
        "      base_model_xception,\n",
        "      GlobalMaxPooling2D(),\n",
        "      Dense(1024,activation='relu'),\n",
        "      BatchNormalization(),\n",
        "      Dense(1,activation='sigmoid')])\n",
        "\n",
        "model_xception.summary()"
      ]
    },
    {
      "cell_type": "code",
      "execution_count": null,
      "metadata": {
        "colab": {
          "background_save": true
        },
        "id": "PNuwY_j7anBy"
      },
      "outputs": [],
      "source": [
        "model_xception.compile(loss = 'binary_crossentropy', optimizer ='sgd', metrics= ['accuracy'])"
      ]
    },
    {
      "cell_type": "code",
      "execution_count": null,
      "metadata": {
        "colab": {
          "background_save": true,
          "base_uri": "https://localhost:8080/"
        },
        "id": "Wi_6p8rgarO4",
        "outputId": "608debc7-78aa-45ed-d43e-39a8d10339b7"
      },
      "outputs": [
        {
          "name": "stdout",
          "output_type": "stream",
          "text": [
            "Epoch 1/20\n",
            "40/40 [==============================] - ETA: 0s - loss: 0.4639 - accuracy: 0.7732 \n",
            "Epoch 1: val_accuracy improved from -inf to 0.86385, saving model to 01.h5\n",
            "40/40 [==============================] - 922s 22s/step - loss: 0.4639 - accuracy: 0.7732 - val_loss: 0.3968 - val_accuracy: 0.8638 - lr: 0.0100\n",
            "Epoch 2/20\n",
            "40/40 [==============================] - ETA: 0s - loss: 0.2440 - accuracy: 0.9033 \n",
            "Epoch 2: val_accuracy improved from 0.86385 to 0.89828, saving model to 02.h5\n",
            "40/40 [==============================] - 852s 21s/step - loss: 0.2440 - accuracy: 0.9033 - val_loss: 0.3236 - val_accuracy: 0.8983 - lr: 0.0100\n",
            "Epoch 3/20\n",
            "40/40 [==============================] - ETA: 0s - loss: 0.1787 - accuracy: 0.9432 \n",
            "Epoch 3: val_accuracy improved from 0.89828 to 0.90297, saving model to 03.h5\n",
            "40/40 [==============================] - 844s 21s/step - loss: 0.1787 - accuracy: 0.9432 - val_loss: 0.2851 - val_accuracy: 0.9030 - lr: 0.0100\n",
            "Epoch 4/20\n",
            "40/40 [==============================] - ETA: 0s - loss: 0.1388 - accuracy: 0.9624 \n",
            "Epoch 4: val_accuracy improved from 0.90297 to 0.91862, saving model to 04.h5\n",
            "40/40 [==============================] - 843s 21s/step - loss: 0.1388 - accuracy: 0.9624 - val_loss: 0.2440 - val_accuracy: 0.9186 - lr: 0.0100\n",
            "Epoch 5/20\n",
            "40/40 [==============================] - ETA: 0s - loss: 0.1161 - accuracy: 0.9745 \n",
            "Epoch 5: val_accuracy improved from 0.91862 to 0.92175, saving model to 05.h5\n",
            "40/40 [==============================] - 848s 21s/step - loss: 0.1161 - accuracy: 0.9745 - val_loss: 0.2193 - val_accuracy: 0.9218 - lr: 0.0100\n",
            "Epoch 6/20\n",
            "40/40 [==============================] - ETA: 0s - loss: 0.0958 - accuracy: 0.9812 \n",
            "Epoch 6: val_accuracy improved from 0.92175 to 0.93114, saving model to 06.h5\n",
            "40/40 [==============================] - 834s 21s/step - loss: 0.0958 - accuracy: 0.9812 - val_loss: 0.1968 - val_accuracy: 0.9311 - lr: 0.0100\n",
            "Epoch 7/20\n",
            "40/40 [==============================] - ETA: 0s - loss: 0.0840 - accuracy: 0.9882 \n",
            "Epoch 7: val_accuracy improved from 0.93114 to 0.93740, saving model to 07.h5\n",
            "40/40 [==============================] - 842s 21s/step - loss: 0.0840 - accuracy: 0.9882 - val_loss: 0.1792 - val_accuracy: 0.9374 - lr: 0.0100\n",
            "Epoch 8/20\n",
            "40/40 [==============================] - ETA: 0s - loss: 0.0719 - accuracy: 0.9929 \n",
            "Epoch 8: val_accuracy improved from 0.93740 to 0.93897, saving model to 08.h5\n",
            "40/40 [==============================] - 844s 21s/step - loss: 0.0719 - accuracy: 0.9929 - val_loss: 0.1720 - val_accuracy: 0.9390 - lr: 0.0100\n",
            "Epoch 9/20\n",
            "40/40 [==============================] - ETA: 0s - loss: 0.0602 - accuracy: 0.9949 \n",
            "Epoch 9: val_accuracy improved from 0.93897 to 0.94053, saving model to 09.h5\n",
            "40/40 [==============================] - 844s 21s/step - loss: 0.0602 - accuracy: 0.9949 - val_loss: 0.1626 - val_accuracy: 0.9405 - lr: 0.0100\n",
            "Epoch 10/20\n",
            "40/40 [==============================] - ETA: 0s - loss: 0.0550 - accuracy: 0.9953 \n",
            "Epoch 10: val_accuracy improved from 0.94053 to 0.94366, saving model to 10.h5\n",
            "40/40 [==============================] - 838s 21s/step - loss: 0.0550 - accuracy: 0.9953 - val_loss: 0.1566 - val_accuracy: 0.9437 - lr: 0.0100\n",
            "Epoch 11/20\n",
            "40/40 [==============================] - ETA: 0s - loss: 0.0501 - accuracy: 0.9957 \n",
            "Epoch 11: val_accuracy did not improve from 0.94366\n",
            "40/40 [==============================] - 830s 21s/step - loss: 0.0501 - accuracy: 0.9957 - val_loss: 0.1530 - val_accuracy: 0.9421 - lr: 0.0100\n",
            "Epoch 12/20\n",
            "40/40 [==============================] - ETA: 0s - loss: 0.0429 - accuracy: 0.9969 \n",
            "Epoch 12: val_accuracy did not improve from 0.94366\n",
            "40/40 [==============================] - 789s 20s/step - loss: 0.0429 - accuracy: 0.9969 - val_loss: 0.1498 - val_accuracy: 0.9405 - lr: 0.0100\n",
            "Epoch 13/20\n",
            "40/40 [==============================] - ETA: 0s - loss: 0.0399 - accuracy: 0.9976 \n",
            "Epoch 13: val_accuracy did not improve from 0.94366\n",
            "40/40 [==============================] - 794s 20s/step - loss: 0.0399 - accuracy: 0.9976 - val_loss: 0.1450 - val_accuracy: 0.9390 - lr: 0.0100\n",
            "Epoch 14/20\n",
            "40/40 [==============================] - ETA: 0s - loss: 0.0352 - accuracy: 1.0000 \n",
            "Epoch 14: ReduceLROnPlateau reducing learning rate to 0.0019999999552965165.\n",
            "\n",
            "Epoch 14: val_accuracy did not improve from 0.94366\n",
            "40/40 [==============================] - 835s 21s/step - loss: 0.0352 - accuracy: 1.0000 - val_loss: 0.1436 - val_accuracy: 0.9421 - lr: 0.0100\n",
            "Epoch 15/20\n",
            "40/40 [==============================] - ETA: 0s - loss: 0.0315 - accuracy: 0.9988 \n",
            "Epoch 15: val_accuracy did not improve from 0.94366\n",
            "40/40 [==============================] - 833s 21s/step - loss: 0.0315 - accuracy: 0.9988 - val_loss: 0.1433 - val_accuracy: 0.9437 - lr: 0.0020\n",
            "Epoch 16/20\n",
            "40/40 [==============================] - ETA: 0s - loss: 0.0355 - accuracy: 0.9980 \n",
            "Epoch 16: val_accuracy did not improve from 0.94366\n",
            "40/40 [==============================] - 790s 20s/step - loss: 0.0355 - accuracy: 0.9980 - val_loss: 0.1429 - val_accuracy: 0.9421 - lr: 0.0020\n",
            "Epoch 17/20\n",
            "40/40 [==============================] - ETA: 0s - loss: 0.0295 - accuracy: 1.0000 \n",
            "Epoch 17: val_accuracy did not improve from 0.94366\n",
            "40/40 [==============================] - 833s 21s/step - loss: 0.0295 - accuracy: 1.0000 - val_loss: 0.1430 - val_accuracy: 0.9437 - lr: 0.0020\n",
            "Epoch 18/20\n",
            "40/40 [==============================] - ETA: 0s - loss: 0.0342 - accuracy: 0.9988 \n",
            "Epoch 18: ReduceLROnPlateau reducing learning rate to 0.0003999999724328518.\n",
            "\n",
            "Epoch 18: val_accuracy did not improve from 0.94366\n",
            "40/40 [==============================] - 837s 21s/step - loss: 0.0342 - accuracy: 0.9988 - val_loss: 0.1427 - val_accuracy: 0.9421 - lr: 0.0020\n",
            "Epoch 19/20\n",
            "40/40 [==============================] - ETA: 0s - loss: 0.0313 - accuracy: 0.9992 \n",
            "Epoch 19: val_accuracy did not improve from 0.94366\n",
            "40/40 [==============================] - 838s 21s/step - loss: 0.0313 - accuracy: 0.9992 - val_loss: 0.1427 - val_accuracy: 0.9421 - lr: 4.0000e-04\n",
            "Epoch 20/20\n",
            "40/40 [==============================] - ETA: 0s - loss: 0.0319 - accuracy: 0.9996 \n",
            "Epoch 20: val_accuracy did not improve from 0.94366\n",
            "40/40 [==============================] - 832s 21s/step - loss: 0.0319 - accuracy: 0.9996 - val_loss: 0.1427 - val_accuracy: 0.9421 - lr: 4.0000e-04\n"
          ]
        }
      ],
      "source": [
        "hist_xception=model_xception.fit(train_data, epochs = 20 , validation_data = valid_data,  callbacks=cb)"
      ]
    },
    {
      "cell_type": "code",
      "execution_count": null,
      "metadata": {
        "colab": {
          "background_save": true,
          "base_uri": "https://localhost:8080/",
          "height": 497
        },
        "id": "ycR5VcEQqql3",
        "outputId": "f357d9a1-6ef5-4b76-fc6e-fc44ca7db977"
      },
      "outputs": [
        {
          "data": {
            "image/png": "[encoded data removed]",
            "text/plain": [
              "<Figure size 432x288 with 1 Axes>"
            ]
          },
          "metadata": {},
          "output_type": "display_data"
        }
      ],
      "source": [
        "fig = plt.figure()\n",
        "plt.plot(hist_xception.history['loss'], color='teal', label='TL')\n",
        "plt.plot(hist_xception.history['val_loss'], color='orange', label='VL')\n",
        "plt.plot(hist_xception.history['accuracy'], color='green', label='TA')\n",
        "plt.plot(hist_xception.history['val_accuracy'], color='red', label='VA')\n",
        "plt.xlabel(\"Epoch\")\n",
        "plt.ylabel(\"Loss/Accuracy\")\n",
        "fig.suptitle('Xception', fontsize=20)\n",
        "plt.legend(loc=\"lower left\")\n",
        "plt.show()"
      ]
    }
  ],
  "metadata": {
    "colab": {
      "provenance": []
    },
    "kernelspec": {
      "display_name": "Python 3",
      "name": "python3"
    },
    "language_info": {
      "name": "python"
    }
  },
  "nbformat": 4,
  "nbformat_minor": 0
}